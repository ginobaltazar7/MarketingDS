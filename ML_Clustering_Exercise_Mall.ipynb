{
 "cells": [
  {
   "cell_type": "markdown",
   "metadata": {},
   "source": [
    "# Clustering\n",
    "\n",
    "Clustering is an unsupervised machine learning technique that is often used to find similarities in data.\n"
   ]
  },
  {
   "cell_type": "code",
   "execution_count": 85,
   "metadata": {},
   "outputs": [],
   "source": [
    "import numpy as np\n",
    "import pandas as pd\n",
    "import matplotlib.pyplot as plt\n",
    "import seaborn as sns\n",
    "from sklearn.cluster import KMeans\n",
    "%matplotlib inline"
   ]
  },
  {
   "cell_type": "markdown",
   "metadata": {},
   "source": [
    "### Functions to help plot ideal elbow for KMeans"
   ]
  },
  {
   "cell_type": "code",
   "execution_count": 77,
   "metadata": {},
   "outputs": [],
   "source": [
    "def format_spines(ax, right_border=True):\n",
    "    \"\"\"docstring for format_spines:\n",
    "    this function sets up borders from an axis and personalize colors\n",
    "    input:\n",
    "        ax: figure axis\n",
    "        right_border: flag to determine if the right border will be visible or not\"\"\"\n",
    "\n",
    "    # Setting up colors\n",
    "    ax.spines['bottom'].set_color('#CCCCCC')\n",
    "    ax.spines['left'].set_color('#CCCCCC')\n",
    "    ax.spines['top'].set_color('#FFFFFF')\n",
    "    if right_border:\n",
    "        ax.spines['right'].set_color('#CCCCCC')\n",
    "    else:\n",
    "        ax.spines['right'].set_color('#FFFFFF')\n",
    "    ax.patch.set_facecolor('#FFFFFF')\n",
    "\n",
    "def compute_square_distances(df, Kmin=1, Kmax=12):\n",
    "    \"\"\"docstring for compute_square_distances\n",
    "    this function computes the square distance of KMeans algorithm through the number of\n",
    "    clusters in range Kmin and Kmax\n",
    "    input:\n",
    "        df: dataframe\n",
    "        Kmin: min index of K analysis\n",
    "        Kmax: max index of K analysis\"\"\"\n",
    "\n",
    "    square_dist = []\n",
    "    K = range(Kmin, Kmax)\n",
    "    for k in K:\n",
    "        km = KMeans(n_clusters=k)\n",
    "        km.fit(df)\n",
    "        square_dist.append(km.inertia_)\n",
    "    return K, square_dist\n",
    "\n",
    "def plot_elbow_method(df, Kmin=1, Kmax=12):\n",
    "    \"\"\"docstring for plot_elbow_method\n",
    "    this function computes the square distances and plots the elbow method for best cluster\n",
    "    number analysis\n",
    "    input:\n",
    "        df: dataframe\n",
    "        Kmin: min index of K analysis\n",
    "        Kmax: max index of K analysis\"\"\"\n",
    "\n",
    "    # Computing distances\n",
    "    K, square_dist = compute_square_distances(df, Kmin, Kmax)\n",
    "\n",
    "    # Plotting elbow method\n",
    "    fig, ax = plt.subplots()\n",
    "    ax.plot(K, square_dist, 'bo-')\n",
    "    format_spines(ax, right_border=False)\n",
    "    plt.xlabel('Number of Clusters')\n",
    "    plt.ylabel('Sum of Square Dist')\n",
    "    plt.title(f'Elbow Method - {df.columns[0]} and {df.columns[1]}', size=14)\n",
    "    plt.show()\n",
    "\n"
   ]
  },
  {
   "cell_type": "markdown",
   "metadata": {},
   "source": [
    "### Load, examine and plot data"
   ]
  },
  {
   "cell_type": "code",
   "execution_count": 38,
   "metadata": {},
   "outputs": [],
   "source": [
    "df = pd.read_csv('../data/Mall_Customers.csv')"
   ]
  },
  {
   "cell_type": "code",
   "execution_count": 39,
   "metadata": {},
   "outputs": [
    {
     "data": {
      "text/html": [
       "<div>\n",
       "<style scoped>\n",
       "    .dataframe tbody tr th:only-of-type {\n",
       "        vertical-align: middle;\n",
       "    }\n",
       "\n",
       "    .dataframe tbody tr th {\n",
       "        vertical-align: top;\n",
       "    }\n",
       "\n",
       "    .dataframe thead th {\n",
       "        text-align: right;\n",
       "    }\n",
       "</style>\n",
       "<table border=\"1\" class=\"dataframe\">\n",
       "  <thead>\n",
       "    <tr style=\"text-align: right;\">\n",
       "      <th></th>\n",
       "      <th>CustomerID</th>\n",
       "      <th>Genre</th>\n",
       "      <th>Age</th>\n",
       "      <th>Annual Income (k$)</th>\n",
       "      <th>Spending Score (1-100)</th>\n",
       "    </tr>\n",
       "  </thead>\n",
       "  <tbody>\n",
       "    <tr>\n",
       "      <th>0</th>\n",
       "      <td>1</td>\n",
       "      <td>Male</td>\n",
       "      <td>19</td>\n",
       "      <td>15</td>\n",
       "      <td>39</td>\n",
       "    </tr>\n",
       "    <tr>\n",
       "      <th>1</th>\n",
       "      <td>2</td>\n",
       "      <td>Male</td>\n",
       "      <td>21</td>\n",
       "      <td>15</td>\n",
       "      <td>81</td>\n",
       "    </tr>\n",
       "    <tr>\n",
       "      <th>2</th>\n",
       "      <td>3</td>\n",
       "      <td>Female</td>\n",
       "      <td>20</td>\n",
       "      <td>16</td>\n",
       "      <td>6</td>\n",
       "    </tr>\n",
       "    <tr>\n",
       "      <th>3</th>\n",
       "      <td>4</td>\n",
       "      <td>Female</td>\n",
       "      <td>23</td>\n",
       "      <td>16</td>\n",
       "      <td>77</td>\n",
       "    </tr>\n",
       "    <tr>\n",
       "      <th>4</th>\n",
       "      <td>5</td>\n",
       "      <td>Female</td>\n",
       "      <td>31</td>\n",
       "      <td>17</td>\n",
       "      <td>40</td>\n",
       "    </tr>\n",
       "  </tbody>\n",
       "</table>\n",
       "</div>"
      ],
      "text/plain": [
       "   CustomerID   Genre  Age  Annual Income (k$)  Spending Score (1-100)\n",
       "0           1    Male   19                  15                      39\n",
       "1           2    Male   21                  15                      81\n",
       "2           3  Female   20                  16                       6\n",
       "3           4  Female   23                  16                      77\n",
       "4           5  Female   31                  17                      40"
      ]
     },
     "execution_count": 39,
     "metadata": {},
     "output_type": "execute_result"
    }
   ],
   "source": [
    "df.head()"
   ]
  },
  {
   "cell_type": "code",
   "execution_count": 40,
   "metadata": {},
   "outputs": [
    {
     "data": {
      "text/plain": [
       "CustomerID                0\n",
       "Genre                     0\n",
       "Age                       0\n",
       "Annual Income (k$)        0\n",
       "Spending Score (1-100)    0\n",
       "dtype: int64"
      ]
     },
     "execution_count": 40,
     "metadata": {},
     "output_type": "execute_result"
    }
   ],
   "source": [
    "df.isnull().sum() # examine for missing values in each column"
   ]
  },
  {
   "cell_type": "code",
   "execution_count": 48,
   "metadata": {},
   "outputs": [],
   "source": [
    "# rename columns\n",
    "df.columns = df.columns.str.strip().str.lower().str.replace(' ', '_').str.replace('(', '').str.replace(')', '').str.replace('$','').str.replace('-','')\n",
    "# and drop customerID\n",
    "df= df.drop(['customerid'], axis=1)\n",
    "# and rename genre column name\n",
    "df= df.rename(columns={'genre': 'gender'})"
   ]
  },
  {
   "cell_type": "code",
   "execution_count": 49,
   "metadata": {},
   "outputs": [
    {
     "data": {
      "text/plain": [
       "Index(['gender', 'age', 'annual_income_k', 'spending_score_1100'], dtype='object')"
      ]
     },
     "execution_count": 49,
     "metadata": {},
     "output_type": "execute_result"
    }
   ],
   "source": [
    "df.columns"
   ]
  },
  {
   "cell_type": "code",
   "execution_count": 50,
   "metadata": {},
   "outputs": [],
   "source": [
    "#df['male'] = (df['genre'] == 'Male').astype(int)\n",
    "df['gender'].replace(['Female','Male'], [0,1], inplace=True)"
   ]
  },
  {
   "cell_type": "code",
   "execution_count": 23,
   "metadata": {},
   "outputs": [
    {
     "data": {
      "text/html": [
       "<div>\n",
       "<style scoped>\n",
       "    .dataframe tbody tr th:only-of-type {\n",
       "        vertical-align: middle;\n",
       "    }\n",
       "\n",
       "    .dataframe tbody tr th {\n",
       "        vertical-align: top;\n",
       "    }\n",
       "\n",
       "    .dataframe thead th {\n",
       "        text-align: right;\n",
       "    }\n",
       "</style>\n",
       "<table border=\"1\" class=\"dataframe\">\n",
       "  <thead>\n",
       "    <tr style=\"text-align: right;\">\n",
       "      <th></th>\n",
       "      <th>customerid</th>\n",
       "      <th>genre</th>\n",
       "      <th>age</th>\n",
       "      <th>annual_income_k</th>\n",
       "      <th>spending_score_1100</th>\n",
       "    </tr>\n",
       "  </thead>\n",
       "  <tbody>\n",
       "    <tr>\n",
       "      <th>0</th>\n",
       "      <td>1</td>\n",
       "      <td>1</td>\n",
       "      <td>19</td>\n",
       "      <td>15</td>\n",
       "      <td>39</td>\n",
       "    </tr>\n",
       "    <tr>\n",
       "      <th>1</th>\n",
       "      <td>2</td>\n",
       "      <td>1</td>\n",
       "      <td>21</td>\n",
       "      <td>15</td>\n",
       "      <td>81</td>\n",
       "    </tr>\n",
       "    <tr>\n",
       "      <th>2</th>\n",
       "      <td>3</td>\n",
       "      <td>0</td>\n",
       "      <td>20</td>\n",
       "      <td>16</td>\n",
       "      <td>6</td>\n",
       "    </tr>\n",
       "    <tr>\n",
       "      <th>3</th>\n",
       "      <td>4</td>\n",
       "      <td>0</td>\n",
       "      <td>23</td>\n",
       "      <td>16</td>\n",
       "      <td>77</td>\n",
       "    </tr>\n",
       "    <tr>\n",
       "      <th>4</th>\n",
       "      <td>5</td>\n",
       "      <td>0</td>\n",
       "      <td>31</td>\n",
       "      <td>17</td>\n",
       "      <td>40</td>\n",
       "    </tr>\n",
       "  </tbody>\n",
       "</table>\n",
       "</div>"
      ],
      "text/plain": [
       "   customerid  genre  age  annual_income_k  spending_score_1100\n",
       "0           1      1   19               15                   39\n",
       "1           2      1   21               15                   81\n",
       "2           3      0   20               16                    6\n",
       "3           4      0   23               16                   77\n",
       "4           5      0   31               17                   40"
      ]
     },
     "execution_count": 23,
     "metadata": {},
     "output_type": "execute_result"
    }
   ],
   "source": [
    "df.head()"
   ]
  },
  {
   "cell_type": "markdown",
   "metadata": {},
   "source": [
    "### Standardize data\n",
    "\n",
    "Standardization is an important step of Data preprocessing because it controls the variability of the dataset and converts data into specific range using a linear transformation which generate good quality clusters and improve the accuracy of clustering algorithms.\n",
    "\n",
    "https://stats.stackexchange.com/questions/89809/is-it-important-to-scale-data-before-clustering\n",
    "https://pdfs.semanticscholar.org/1d35/2dd5f030589ecfe8910ab1cc0dd320bf600d.pdf"
   ]
  },
  {
   "cell_type": "code",
   "execution_count": 53,
   "metadata": {},
   "outputs": [],
   "source": [
    "dfstd = pd.concat([df.mean().to_frame(), df.std().to_frame()], axis=1).transpose()"
   ]
  },
  {
   "cell_type": "code",
   "execution_count": 54,
   "metadata": {},
   "outputs": [
    {
     "data": {
      "text/html": [
       "<div>\n",
       "<style scoped>\n",
       "    .dataframe tbody tr th:only-of-type {\n",
       "        vertical-align: middle;\n",
       "    }\n",
       "\n",
       "    .dataframe tbody tr th {\n",
       "        vertical-align: top;\n",
       "    }\n",
       "\n",
       "    .dataframe thead th {\n",
       "        text-align: right;\n",
       "    }\n",
       "</style>\n",
       "<table border=\"1\" class=\"dataframe\">\n",
       "  <thead>\n",
       "    <tr style=\"text-align: right;\">\n",
       "      <th></th>\n",
       "      <th>gender</th>\n",
       "      <th>age</th>\n",
       "      <th>annual_income_k</th>\n",
       "      <th>spending_score_1100</th>\n",
       "    </tr>\n",
       "  </thead>\n",
       "  <tbody>\n",
       "    <tr>\n",
       "      <th>0</th>\n",
       "      <td>0.440000</td>\n",
       "      <td>38.850000</td>\n",
       "      <td>60.560000</td>\n",
       "      <td>50.200000</td>\n",
       "    </tr>\n",
       "    <tr>\n",
       "      <th>0</th>\n",
       "      <td>0.497633</td>\n",
       "      <td>13.969007</td>\n",
       "      <td>26.264721</td>\n",
       "      <td>25.823522</td>\n",
       "    </tr>\n",
       "  </tbody>\n",
       "</table>\n",
       "</div>"
      ],
      "text/plain": [
       "     gender        age  annual_income_k  spending_score_1100\n",
       "0  0.440000  38.850000        60.560000            50.200000\n",
       "0  0.497633  13.969007        26.264721            25.823522"
      ]
     },
     "execution_count": 54,
     "metadata": {},
     "output_type": "execute_result"
    }
   ],
   "source": [
    "dfstd"
   ]
  },
  {
   "cell_type": "code",
   "execution_count": 29,
   "metadata": {},
   "outputs": [],
   "source": [
    "dfsp.index = ['mean', 'std']"
   ]
  },
  {
   "cell_type": "code",
   "execution_count": 30,
   "metadata": {},
   "outputs": [
    {
     "data": {
      "text/html": [
       "<div>\n",
       "<style scoped>\n",
       "    .dataframe tbody tr th:only-of-type {\n",
       "        vertical-align: middle;\n",
       "    }\n",
       "\n",
       "    .dataframe tbody tr th {\n",
       "        vertical-align: top;\n",
       "    }\n",
       "\n",
       "    .dataframe thead th {\n",
       "        text-align: right;\n",
       "    }\n",
       "</style>\n",
       "<table border=\"1\" class=\"dataframe\">\n",
       "  <thead>\n",
       "    <tr style=\"text-align: right;\">\n",
       "      <th></th>\n",
       "      <th>customerid</th>\n",
       "      <th>genre</th>\n",
       "      <th>age</th>\n",
       "      <th>annual_income_k</th>\n",
       "      <th>spending_score_1100</th>\n",
       "    </tr>\n",
       "  </thead>\n",
       "  <tbody>\n",
       "    <tr>\n",
       "      <th>mean</th>\n",
       "      <td>100.500000</td>\n",
       "      <td>0.440000</td>\n",
       "      <td>38.850000</td>\n",
       "      <td>60.560000</td>\n",
       "      <td>50.200000</td>\n",
       "    </tr>\n",
       "    <tr>\n",
       "      <th>std</th>\n",
       "      <td>57.879185</td>\n",
       "      <td>0.497633</td>\n",
       "      <td>13.969007</td>\n",
       "      <td>26.264721</td>\n",
       "      <td>25.823522</td>\n",
       "    </tr>\n",
       "  </tbody>\n",
       "</table>\n",
       "</div>"
      ],
      "text/plain": [
       "      customerid     genre        age  annual_income_k  spending_score_1100\n",
       "mean  100.500000  0.440000  38.850000        60.560000            50.200000\n",
       "std    57.879185  0.497633  13.969007        26.264721            25.823522"
      ]
     },
     "execution_count": 30,
     "metadata": {},
     "output_type": "execute_result"
    }
   ],
   "source": [
    "dfsp"
   ]
  },
  {
   "cell_type": "code",
   "execution_count": 56,
   "metadata": {},
   "outputs": [
    {
     "data": {
      "text/html": [
       "<div>\n",
       "<style scoped>\n",
       "    .dataframe tbody tr th:only-of-type {\n",
       "        vertical-align: middle;\n",
       "    }\n",
       "\n",
       "    .dataframe tbody tr th {\n",
       "        vertical-align: top;\n",
       "    }\n",
       "\n",
       "    .dataframe thead th {\n",
       "        text-align: right;\n",
       "    }\n",
       "</style>\n",
       "<table border=\"1\" class=\"dataframe\">\n",
       "  <thead>\n",
       "    <tr style=\"text-align: right;\">\n",
       "      <th></th>\n",
       "      <th>gender</th>\n",
       "      <th>age</th>\n",
       "      <th>annual_income_k</th>\n",
       "      <th>spending_score_1100</th>\n",
       "    </tr>\n",
       "  </thead>\n",
       "  <tbody>\n",
       "    <tr>\n",
       "      <th>0</th>\n",
       "      <td>1</td>\n",
       "      <td>-1.421003</td>\n",
       "      <td>-1.734646</td>\n",
       "      <td>-0.433713</td>\n",
       "    </tr>\n",
       "    <tr>\n",
       "      <th>1</th>\n",
       "      <td>1</td>\n",
       "      <td>-1.277829</td>\n",
       "      <td>-1.734646</td>\n",
       "      <td>1.192711</td>\n",
       "    </tr>\n",
       "    <tr>\n",
       "      <th>2</th>\n",
       "      <td>0</td>\n",
       "      <td>-1.349416</td>\n",
       "      <td>-1.696572</td>\n",
       "      <td>-1.711618</td>\n",
       "    </tr>\n",
       "    <tr>\n",
       "      <th>3</th>\n",
       "      <td>0</td>\n",
       "      <td>-1.134655</td>\n",
       "      <td>-1.696572</td>\n",
       "      <td>1.037814</td>\n",
       "    </tr>\n",
       "    <tr>\n",
       "      <th>4</th>\n",
       "      <td>0</td>\n",
       "      <td>-0.561958</td>\n",
       "      <td>-1.658498</td>\n",
       "      <td>-0.394989</td>\n",
       "    </tr>\n",
       "  </tbody>\n",
       "</table>\n",
       "</div>"
      ],
      "text/plain": [
       "   gender       age  annual_income_k  spending_score_1100\n",
       "0       1 -1.421003        -1.734646            -0.433713\n",
       "1       1 -1.277829        -1.734646             1.192711\n",
       "2       0 -1.349416        -1.696572            -1.711618\n",
       "3       0 -1.134655        -1.696572             1.037814\n",
       "4       0 -0.561958        -1.658498            -0.394989"
      ]
     },
     "execution_count": 56,
     "metadata": {},
     "output_type": "execute_result"
    }
   ],
   "source": [
    "df_scaled = pd.DataFrame()\n",
    "for col in df.columns:\n",
    "    if(col =='gender'):\n",
    "        df_scaled[col] = df[col]\n",
    "    else: \n",
    "        df_scaled[col] = (df[col] - dfsp.loc['mean', col]) / dfsp.loc['std', col]\n",
    "df_scaled.head()"
   ]
  },
  {
   "cell_type": "markdown",
   "metadata": {},
   "source": [
    "### Break up dataframe into two\n",
    "\n",
    "One for male and another female, in part to help reduce data dimensions.\n"
   ]
  },
  {
   "cell_type": "code",
   "execution_count": 59,
   "metadata": {},
   "outputs": [],
   "source": [
    "df_female = df_scaled.loc[df_scaled.gender==0].iloc[:, 1:]\n",
    "df_male = df_scaled.loc[df_scaled.gender==1].iloc[:, 1:]"
   ]
  },
  {
   "cell_type": "code",
   "execution_count": 60,
   "metadata": {},
   "outputs": [
    {
     "data": {
      "text/html": [
       "<div>\n",
       "<style scoped>\n",
       "    .dataframe tbody tr th:only-of-type {\n",
       "        vertical-align: middle;\n",
       "    }\n",
       "\n",
       "    .dataframe tbody tr th {\n",
       "        vertical-align: top;\n",
       "    }\n",
       "\n",
       "    .dataframe thead th {\n",
       "        text-align: right;\n",
       "    }\n",
       "</style>\n",
       "<table border=\"1\" class=\"dataframe\">\n",
       "  <thead>\n",
       "    <tr style=\"text-align: right;\">\n",
       "      <th></th>\n",
       "      <th>age</th>\n",
       "      <th>annual_income_k</th>\n",
       "      <th>spending_score_1100</th>\n",
       "    </tr>\n",
       "  </thead>\n",
       "  <tbody>\n",
       "    <tr>\n",
       "      <th>2</th>\n",
       "      <td>-1.349416</td>\n",
       "      <td>-1.696572</td>\n",
       "      <td>-1.711618</td>\n",
       "    </tr>\n",
       "    <tr>\n",
       "      <th>3</th>\n",
       "      <td>-1.134655</td>\n",
       "      <td>-1.696572</td>\n",
       "      <td>1.037814</td>\n",
       "    </tr>\n",
       "    <tr>\n",
       "      <th>4</th>\n",
       "      <td>-0.561958</td>\n",
       "      <td>-1.658498</td>\n",
       "      <td>-0.394989</td>\n",
       "    </tr>\n",
       "    <tr>\n",
       "      <th>5</th>\n",
       "      <td>-1.206242</td>\n",
       "      <td>-1.658498</td>\n",
       "      <td>0.999089</td>\n",
       "    </tr>\n",
       "    <tr>\n",
       "      <th>6</th>\n",
       "      <td>-0.275610</td>\n",
       "      <td>-1.620425</td>\n",
       "      <td>-1.711618</td>\n",
       "    </tr>\n",
       "  </tbody>\n",
       "</table>\n",
       "</div>"
      ],
      "text/plain": [
       "        age  annual_income_k  spending_score_1100\n",
       "2 -1.349416        -1.696572            -1.711618\n",
       "3 -1.134655        -1.696572             1.037814\n",
       "4 -0.561958        -1.658498            -0.394989\n",
       "5 -1.206242        -1.658498             0.999089\n",
       "6 -0.275610        -1.620425            -1.711618"
      ]
     },
     "execution_count": 60,
     "metadata": {},
     "output_type": "execute_result"
    }
   ],
   "source": [
    "df_female.head()"
   ]
  },
  {
   "cell_type": "code",
   "execution_count": 61,
   "metadata": {},
   "outputs": [
    {
     "data": {
      "text/html": [
       "<div>\n",
       "<style scoped>\n",
       "    .dataframe tbody tr th:only-of-type {\n",
       "        vertical-align: middle;\n",
       "    }\n",
       "\n",
       "    .dataframe tbody tr th {\n",
       "        vertical-align: top;\n",
       "    }\n",
       "\n",
       "    .dataframe thead th {\n",
       "        text-align: right;\n",
       "    }\n",
       "</style>\n",
       "<table border=\"1\" class=\"dataframe\">\n",
       "  <thead>\n",
       "    <tr style=\"text-align: right;\">\n",
       "      <th></th>\n",
       "      <th>age</th>\n",
       "      <th>annual_income_k</th>\n",
       "      <th>spending_score_1100</th>\n",
       "    </tr>\n",
       "  </thead>\n",
       "  <tbody>\n",
       "    <tr>\n",
       "      <th>0</th>\n",
       "      <td>-1.421003</td>\n",
       "      <td>-1.734646</td>\n",
       "      <td>-0.433713</td>\n",
       "    </tr>\n",
       "    <tr>\n",
       "      <th>1</th>\n",
       "      <td>-1.277829</td>\n",
       "      <td>-1.734646</td>\n",
       "      <td>1.192711</td>\n",
       "    </tr>\n",
       "    <tr>\n",
       "      <th>8</th>\n",
       "      <td>1.800414</td>\n",
       "      <td>-1.582351</td>\n",
       "      <td>-1.827791</td>\n",
       "    </tr>\n",
       "    <tr>\n",
       "      <th>10</th>\n",
       "      <td>2.015175</td>\n",
       "      <td>-1.582351</td>\n",
       "      <td>-1.401823</td>\n",
       "    </tr>\n",
       "    <tr>\n",
       "      <th>14</th>\n",
       "      <td>-0.132436</td>\n",
       "      <td>-1.544277</td>\n",
       "      <td>-1.440547</td>\n",
       "    </tr>\n",
       "  </tbody>\n",
       "</table>\n",
       "</div>"
      ],
      "text/plain": [
       "         age  annual_income_k  spending_score_1100\n",
       "0  -1.421003        -1.734646            -0.433713\n",
       "1  -1.277829        -1.734646             1.192711\n",
       "8   1.800414        -1.582351            -1.827791\n",
       "10  2.015175        -1.582351            -1.401823\n",
       "14 -0.132436        -1.544277            -1.440547"
      ]
     },
     "execution_count": 61,
     "metadata": {},
     "output_type": "execute_result"
    }
   ],
   "source": [
    "df_male.head()"
   ]
  },
  {
   "cell_type": "markdown",
   "metadata": {},
   "source": [
    "### Visualize each dataset\n",
    "\n",
    "To intuitively help see the distribution of data and patterns visually. Quickly spotchecking, data seems to suggest spending score by age skews slightly younger in both male and female, while skewing slightly towards lower income."
   ]
  },
  {
   "cell_type": "code",
   "execution_count": 62,
   "metadata": {},
   "outputs": [
    {
     "data": {
      "text/plain": [
       "Index(['age', 'annual_income_k', 'spending_score_1100'], dtype='object')"
      ]
     },
     "execution_count": 62,
     "metadata": {},
     "output_type": "execute_result"
    }
   ],
   "source": [
    "df_male.columns"
   ]
  },
  {
   "cell_type": "code",
   "execution_count": 63,
   "metadata": {},
   "outputs": [
    {
     "data": {
      "text/plain": [
       "(88, 3)"
      ]
     },
     "execution_count": 63,
     "metadata": {},
     "output_type": "execute_result"
    }
   ],
   "source": [
    "df_male.shape"
   ]
  },
  {
   "cell_type": "code",
   "execution_count": 65,
   "metadata": {},
   "outputs": [
    {
     "name": "stderr",
     "output_type": "stream",
     "text": [
      "/Users/GB/anaconda3/lib/python3.6/site-packages/matplotlib/axes/_axes.py:6462: UserWarning: The 'normed' kwarg is deprecated, and has been replaced by the 'density' kwarg.\n",
      "  warnings.warn(\"The 'normed' kwarg is deprecated, and has been \"\n",
      "/Users/GB/anaconda3/lib/python3.6/site-packages/matplotlib/axes/_axes.py:6462: UserWarning: The 'normed' kwarg is deprecated, and has been replaced by the 'density' kwarg.\n",
      "  warnings.warn(\"The 'normed' kwarg is deprecated, and has been \"\n",
      "/Users/GB/anaconda3/lib/python3.6/site-packages/matplotlib/axes/_axes.py:6462: UserWarning: The 'normed' kwarg is deprecated, and has been replaced by the 'density' kwarg.\n",
      "  warnings.warn(\"The 'normed' kwarg is deprecated, and has been \"\n"
     ]
    },
    {
     "data": {
      "image/png": "[encoded data removed]",
      "text/plain": [
       "<Figure size 864x216 with 3 Axes>"
      ]
     },
     "metadata": {},
     "output_type": "display_data"
    }
   ],
   "source": [
    "# Numerical features distribution\n",
    "sns.set(style='white', palette='muted', color_codes=True)\n",
    "fig, axs = plt.subplots(1, 3, figsize=(12, 3))\n",
    "sns.despine(left=True)\n",
    "axs[0] = sns.distplot(df_male['age'], bins=20, ax=axs[0], color='b')\n",
    "axs[1] = sns.distplot(df_male['annual_income_k'], bins=20, ax=axs[1], color='g')\n",
    "axs[2] = sns.distplot(df_male['spending_score_1100'], bins=20, ax=axs[2], color='r')\n",
    "\n",
    "fig.suptitle('Distribution by Numerical Feature: Male')\n",
    "plt.setp(axs, yticks=[])\n",
    "plt.tight_layout()\n",
    "plt.show()"
   ]
  },
  {
   "cell_type": "code",
   "execution_count": 66,
   "metadata": {},
   "outputs": [
    {
     "name": "stderr",
     "output_type": "stream",
     "text": [
      "/Users/GB/anaconda3/lib/python3.6/site-packages/matplotlib/axes/_axes.py:6462: UserWarning: The 'normed' kwarg is deprecated, and has been replaced by the 'density' kwarg.\n",
      "  warnings.warn(\"The 'normed' kwarg is deprecated, and has been \"\n",
      "/Users/GB/anaconda3/lib/python3.6/site-packages/matplotlib/axes/_axes.py:6462: UserWarning: The 'normed' kwarg is deprecated, and has been replaced by the 'density' kwarg.\n",
      "  warnings.warn(\"The 'normed' kwarg is deprecated, and has been \"\n",
      "/Users/GB/anaconda3/lib/python3.6/site-packages/matplotlib/axes/_axes.py:6462: UserWarning: The 'normed' kwarg is deprecated, and has been replaced by the 'density' kwarg.\n",
      "  warnings.warn(\"The 'normed' kwarg is deprecated, and has been \"\n"
     ]
    },
    {
     "data": {
      "image/png": "[encoded data removed]",
      "text/plain": [
       "<Figure size 864x216 with 3 Axes>"
      ]
     },
     "metadata": {},
     "output_type": "display_data"
    }
   ],
   "source": [
    "# Numerical features distribution\n",
    "sns.set(style='white', palette='muted', color_codes=True)\n",
    "fig, axs = plt.subplots(1, 3, figsize=(12, 3))\n",
    "sns.despine(left=True)\n",
    "axs[0] = sns.distplot(df_female['age'], bins=20, ax=axs[0], color='b')\n",
    "axs[1] = sns.distplot(df_female['annual_income_k'], bins=20, ax=axs[1], color='g')\n",
    "axs[2] = sns.distplot(df_female['spending_score_1100'], bins=20, ax=axs[2], color='r')\n",
    "\n",
    "fig.suptitle('Distribution by Numerical Feature: Female')\n",
    "plt.setp(axs, yticks=[])\n",
    "plt.tight_layout()\n",
    "plt.show()"
   ]
  },
  {
   "cell_type": "markdown",
   "metadata": {},
   "source": [
    "## Elbow Criterion\n",
    "\n",
    "A commonly used method to\n",
    "determine the number of clusters is the elbow criterion .\n",
    "The elbow criterion states that you should choose a number of clusters so that\n",
    "adding another cluster does not add sufficient information. The elbow is identified by\n",
    "plotting the ratio of the within cluster variance to between cluster variance against the\n",
    "number of clusters. The within cluster variance is an estimate of the average of the\n",
    "variance in the variables used as a basis for segmentation (importance score ratings for\n",
    "premium savings and neighborhood agent in the Geico example) among customers\n",
    "who belong to a particular cluster. The between cluster variance is an estimate of the\n",
    "variance of the segmentation basis variables between customers who belong to different\n",
    "segments. The objective of cluster analysis (as mentioned before) is to minimize\n",
    "the within cluster variance and maximize the between cluster variance . Therefore,\n",
    "as the number of clusters is increasing, the ratio of the within cluster variance to the\n",
    "between cluster variance will keep decreasing."
   ]
  },
  {
   "cell_type": "code",
   "execution_count": 79,
   "metadata": {},
   "outputs": [
    {
     "data": {
      "image/png": "[encoded data removed]",
      "text/plain": [
       "<Figure size 432x288 with 1 Axes>"
      ]
     },
     "metadata": {},
     "output_type": "display_data"
    }
   ],
   "source": [
    "df_1 = df_male.loc[:, ['age', 'spending_score_1100']]\n",
    "\n",
    "# Searching for optimun K\n",
    "plot_elbow_method(df_1)"
   ]
  },
  {
   "cell_type": "code",
   "execution_count": 80,
   "metadata": {},
   "outputs": [
    {
     "data": {
      "image/png": "[encoded data removed]",
      "text/plain": [
       "<Figure size 432x288 with 1 Axes>"
      ]
     },
     "metadata": {},
     "output_type": "display_data"
    }
   ],
   "source": [
    "df_1 = df_female.loc[:, ['age', 'spending_score_1100']]\n",
    "\n",
    "# Searching for optimun K\n",
    "plot_elbow_method(df_1)"
   ]
  },
  {
   "cell_type": "code",
   "execution_count": null,
   "metadata": {},
   "outputs": [],
   "source": [
    "### Kmeans clustering\n",
    "\n",
    "K-means clustering belongs to the nonhierarchical class of clustering algorithms.\n",
    "It is one of the more popular algorithms used for clustering in practice because of its\n",
    "simplicity and speed. It is considered to be more robust to different types of variables,\n",
    "is more appropriate for large data sets that are common in marketing, and is less sensitive\n",
    "to some customers who are outliers (in other words, extremely different from\n",
    "others).\n",
    "For K-means clustering, the user has to specify the number of clusters required\n",
    "before the clustering algorithm is started. The basic algorithm for K-means clustering\n",
    "is as follows:\n",
    "1. Choose the number of clusters, k .\n",
    "2. Generate k random points as cluster centroids.\n",
    "3. Assign each point to the nearest cluster centroid.\n",
    "4. Recompute the new cluster centroid.\n",
    "5. Repeat the two previous steps until some convergence criterion is met. Usually\n",
    "the convergence criterion is that the assignment of customers to clusters has not\n",
    "changed over multiple iterations."
   ]
  },
  {
   "cell_type": "code",
   "execution_count": 108,
   "metadata": {},
   "outputs": [],
   "source": [
    "import plotly.plotly as py\n",
    "import plotly.graph_objs as go\n",
    "import colorlover as cl\n",
    "\n",
    "def plot(df, gender, color, title):  # explore to use later for 3D graphing\n",
    "\n",
    "    data_to_plot = []\n",
    "    x = df['spending_score_1100']\n",
    "    y = df['annual_income_k']\n",
    "    z = df['age']\n",
    "    data = go.Scatter3d(x=x , y=y , z=z , mode='markers', name=gender, marker = color)\n",
    "    data_to_plot.append(data)\n",
    "    layout = go.Layout(margin=dict(l=0,r=0,b=0,t=40),\n",
    "        title= title, scene = dict(xaxis = dict(title  = x.name,), \n",
    "        yaxis = dict(title  = y.name), zaxis = dict(title = z.name)))\n",
    "    fig = go.Figure(data=data_to_plot, layout=layout)\n",
    "    py.iplot(fig) "
   ]
  },
  {
   "cell_type": "markdown",
   "metadata": {},
   "source": [
    "### Males"
   ]
  },
  {
   "cell_type": "code",
   "execution_count": 109,
   "metadata": {},
   "outputs": [
    {
     "data": {
      "text/plain": [
       "array([[-0.97358385, -0.73520674,  0.41499633],\n",
       "       [ 1.42458226, -0.26689794, -0.06389524],\n",
       "       [-0.39889894,  1.01090398,  1.25725171],\n",
       "       [ 0.04653158,  0.93623686, -1.39988652],\n",
       "       [ 1.19192435, -1.39198127, -1.51154184]])"
      ]
     },
     "execution_count": 109,
     "metadata": {},
     "output_type": "execute_result"
    }
   ],
   "source": [
    "X = df_male[['age', 'annual_income_k', 'spending_score_1100']]\n",
    "km = KMeans(5)   # choosing 5 based on elbow chart above\n",
    "km.fit(X)\n",
    "centers_male = km.cluster_centers_\n",
    "centers_male"
   ]
  },
  {
   "cell_type": "code",
   "execution_count": 125,
   "metadata": {},
   "outputs": [
    {
     "data": {
      "image/png": "[encoded data removed]",
      "text/plain": [
       "<Figure size 1440x720 with 2 Axes>"
      ]
     },
     "metadata": {},
     "output_type": "display_data"
    }
   ],
   "source": [
    "plt.figure(figsize = (20,10))\n",
    "plt.subplot(121)\n",
    "plt.scatter(df_male.annual_income_k, df_male.age)\n",
    "plt.xlabel('Customer Annual Income (thousands $)')\n",
    "plt.ylabel('Customer Age')\n",
    "plt.title('Male - True Labels')\n",
    "\n",
    "plt.subplot(122)\n",
    "plt.scatter(df_male.annual_income_k, df_male.age)\n",
    "plt.scatter(centers_male[:,0], centers_male[:,2], marker='o', c='g', s=250)\n",
    "plt.xlabel('Customer Annual Income (thousands $)')\n",
    "plt.ylabel('Customer Age')\n",
    "plt.title('Male - K-Means Clusters')\n",
    "plt.draw()\n",
    "plt.show()\n"
   ]
  },
  {
   "cell_type": "markdown",
   "metadata": {},
   "source": [
    "### Females"
   ]
  },
  {
   "cell_type": "code",
   "execution_count": 126,
   "metadata": {},
   "outputs": [
    {
     "data": {
      "text/plain": [
       "array([[ 0.98258647, -0.49782183, -0.30815223],\n",
       "       [-0.7668454 , -0.37055081, -0.2975101 ],\n",
       "       [-0.95844044, -1.32754854,  1.17483827],\n",
       "       [-0.4513238 ,  0.94090956,  1.17686927],\n",
       "       [ 0.41162553,  1.20973427, -1.10751742]])"
      ]
     },
     "execution_count": 126,
     "metadata": {},
     "output_type": "execute_result"
    }
   ],
   "source": [
    "X = df_female[['age', 'annual_income_k', 'spending_score_1100']]\n",
    "km = KMeans(5)   # choosing 5 based on elbow chart above\n",
    "km.fit(X)\n",
    "centers_female = km.cluster_centers_\n",
    "centers_female"
   ]
  },
  {
   "cell_type": "code",
   "execution_count": 127,
   "metadata": {},
   "outputs": [
    {
     "data": {
      "image/png": "[encoded data removed]",
      "text/plain": [
       "<Figure size 1440x720 with 2 Axes>"
      ]
     },
     "metadata": {},
     "output_type": "display_data"
    }
   ],
   "source": [
    "plt.figure(figsize = (20,10))\n",
    "plt.subplot(121)\n",
    "plt.scatter(df_female.annual_income_k, df_female.age)\n",
    "plt.xlabel('Customer Annual Income (thousands $)')\n",
    "plt.ylabel('Customer Age')\n",
    "plt.title('Female - True Labels')\n",
    "\n",
    "plt.subplot(122)\n",
    "plt.scatter(df_male.annual_income_k, df_male.age)\n",
    "plt.scatter(centers_female[:,0], centers_female[:,2], marker='o', c='g', s=250)\n",
    "plt.xlabel('Customer Annual Income (thousands $)')\n",
    "plt.ylabel('Customer Age')\n",
    "plt.title('Female - K-Means Clusters')\n",
    "plt.draw()\n",
    "plt.show()"
   ]
  },
  {
   "cell_type": "markdown",
   "metadata": {},
   "source": [
    "### Exercise 1\n",
    "- For Discussion:\n",
    "    - How many clusters can the algorithm see? Why?\n",
    "    - Do any of the features need to be normalized first?\n",
    "    - Consider calculating the means for each of the normalized features?\n",
    "- Change the number of clusters using the n_clusters parameter, and using feedback from the plot_elbow_method. What happens?\n",
    "- Change the initialization parameters of KMeans to 'random'. What happens?\n",
    "- Run the clustering multiple times, do the centroid positions change?"
   ]
  },
  {
   "cell_type": "markdown",
   "metadata": {},
   "source": [
    "*Copyright &copy; 2019 Gino Baltazar All rights reserved.*"
   ]
  },
  {
   "cell_type": "code",
   "execution_count": null,
   "metadata": {},
   "outputs": [],
   "source": []
  }
 ],
 "metadata": {
  "anaconda-cloud": {},
  "kernelspec": {
   "display_name": "Python 3",
   "language": "python",
   "name": "python3"
  },
  "language_info": {
   "codemirror_mode": {
    "name": "ipython",
    "version": 3
   },
   "file_extension": ".py",
   "mimetype": "text/x-python",
   "name": "python",
   "nbconvert_exporter": "python",
   "pygments_lexer": "ipython3",
   "version": "3.6.5"
  }
 },
 "nbformat": 4,
 "nbformat_minor": 1
}
